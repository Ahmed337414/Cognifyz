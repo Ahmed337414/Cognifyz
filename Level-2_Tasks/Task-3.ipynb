{
 "cells": [
  {
   "cell_type": "code",
   "execution_count": 1,
   "metadata": {},
   "outputs": [],
   "source": [
    "import pandas as pd"
   ]
  },
  {
   "cell_type": "code",
   "execution_count": 2,
   "metadata": {},
   "outputs": [],
   "source": [
    "# Load the dataset\n",
    "df = pd.read_csv('Dataset .csv')"
   ]
  },
  {
   "cell_type": "code",
   "execution_count": 3,
   "metadata": {},
   "outputs": [
    {
     "name": "stdout",
     "output_type": "stream",
     "text": [
      "First few rows with new features:\n",
      "          Restaurant Name  Restaurant Name Length  \\\n",
      "0        Le Petit Souffle                      16   \n",
      "1        Izakaya Kikufuji                      16   \n",
      "2  Heat - Edsa Shangri-La                      22   \n",
      "3                    Ooma                       4   \n",
      "4             Sambo Kojin                      11   \n",
      "\n",
      "                                             Address  Address Length  \n",
      "0  Third Floor, Century City Mall, Kalayaan Avenu...              71  \n",
      "1  Little Tokyo, 2277 Chino Roces Avenue, Legaspi...              67  \n",
      "2  Edsa Shangri-La, 1 Garden Way, Ortigas, Mandal...              56  \n",
      "3  Third Floor, Mega Fashion Hall, SM Megamall, O...              70  \n",
      "4  Third Floor, Mega Atrium, SM Megamall, Ortigas...              64  \n"
     ]
    }
   ],
   "source": [
    "# Extract the length of the restaurant name and address\n",
    "df['Restaurant Name Length'] = df['Restaurant Name'].apply(len)\n",
    "df['Address Length'] = df['Address'].apply(len)\n",
    "\n",
    "print(\"First few rows with new features:\")\n",
    "print(df[['Restaurant Name', 'Restaurant Name Length', 'Address', 'Address Length']].head())"
   ]
  },
  {
   "cell_type": "code",
   "execution_count": 4,
   "metadata": {},
   "outputs": [
    {
     "name": "stdout",
     "output_type": "stream",
     "text": [
      "First few rows with encoded features:\n",
      "  Has Table booking  Has Table Booking Has Online delivery  \\\n",
      "0               Yes                  1                  No   \n",
      "1               Yes                  1                  No   \n",
      "2               Yes                  1                  No   \n",
      "3                No                  0                  No   \n",
      "4               Yes                  1                  No   \n",
      "\n",
      "   Has Online Delivery  \n",
      "0                    0  \n",
      "1                    0  \n",
      "2                    0  \n",
      "3                    0  \n",
      "4                    0  \n"
     ]
    }
   ],
   "source": [
    "# Encode \"Has Table booking\" and \"Has Online delivery\"\n",
    "df['Has Table Booking'] = df['Has Table booking'].apply(lambda x: 1 if x == 'Yes' else 0)\n",
    "df['Has Online Delivery'] = df['Has Online delivery'].apply(lambda x: 1 if x == 'Yes' else 0)\n",
    "\n",
    "print(\"First few rows with encoded features:\")\n",
    "print(df[['Has Table booking', 'Has Table Booking', 'Has Online delivery', 'Has Online Delivery']].head())\n"
   ]
  }
 ],
 "metadata": {
  "kernelspec": {
   "display_name": "Python 3",
   "language": "python",
   "name": "python3"
  },
  "language_info": {
   "codemirror_mode": {
    "name": "ipython",
    "version": 3
   },
   "file_extension": ".py",
   "mimetype": "text/x-python",
   "name": "python",
   "nbconvert_exporter": "python",
   "pygments_lexer": "ipython3",
   "version": "3.12.2"
  }
 },
 "nbformat": 4,
 "nbformat_minor": 2
}
