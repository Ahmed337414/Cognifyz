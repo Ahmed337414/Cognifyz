{
 "cells": [
  {
   "cell_type": "code",
   "execution_count": 1,
   "metadata": {},
   "outputs": [],
   "source": [
    "import pandas as pd\n",
    "from sklearn.model_selection import train_test_split\n",
    "from sklearn.preprocessing import OneHotEncoder\n",
    "from sklearn.metrics import mean_squared_error, r2_score\n",
    "import numpy as np"
   ]
  },
  {
   "cell_type": "code",
   "execution_count": 8,
   "metadata": {},
   "outputs": [],
   "source": [
    "# Load the dataset\n",
    "data = pd.read_csv('Dataset.csv')"
   ]
  },
  {
   "cell_type": "markdown",
   "metadata": {},
   "source": [
    "By extracting additional features and encoding categorical variables, we enhanced our dataset. We then defined our features and target variable, followed by splitting the dataset into training and testing sets, ensuring robust data preprocessing."
   ]
  },
  {
   "cell_type": "code",
   "execution_count": null,
   "metadata": {},
   "outputs": [
    {
     "name": "stdout",
     "output_type": "stream",
     "text": [
      "Data preprocessing complete.\n"
     ]
    }
   ],
   "source": [
    "# Extract additional features\n",
    "data['Restaurant Name Length'] = data['Restaurant Name'].apply(len)\n",
    "data['Address Length'] = data['Address'].apply(len)\n",
    "\n",
    "# Encode categorical variables\n",
    "data['Has Table Booking'] = data['Has Table booking'].apply(lambda x: 1 if x == 'Yes' else 0)\n",
    "data['Has Online Delivery'] = data['Has Online delivery'].apply(lambda x: 1 if x == 'Yes' else 0)\n",
    "\n",
    "# One-hot encode categorical columns\n",
    "categorical_cols = ['Country Code', 'City', 'Cuisines', 'Rating color', 'Rating text', 'Currency']\n",
    "data = pd.get_dummies(data, columns=categorical_cols, drop_first=True)\n",
    "\n",
    "# Define features and target variable\n",
    "X = data.drop(columns=['Aggregate rating', 'Restaurant ID', 'Restaurant Name', 'Address', 'Locality', 'Locality Verbose'])\n",
    "y = data['Aggregate rating']\n",
    "\n",
    "# Split the dataset into training and testing sets\n",
    "X_train, X_test, y_train, y_test = train_test_split(X, y, test_size=0.2, random_state=42)\n",
    "\n",
    "print(\"Data preprocessing complete.\")"
   ]
  },
  {
   "cell_type": "markdown",
   "metadata": {},
   "source": [
    "We focused on handling non-numeric columns and proceeded by training and evaluating multiple regression models. This involved splitting the dataset and utilizing algorithms like Linear Regression, Decision Tree, and Random Forest to predict restaurant ratings."
   ]
  },
  {
   "cell_type": "code",
   "execution_count": 9,
   "metadata": {},
   "outputs": [
    {
     "name": "stdout",
     "output_type": "stream",
     "text": [
      "Columns with non-numeric values:\n",
      "['Restaurant Name', 'City', 'Address', 'Locality', 'Locality Verbose', 'Cuisines', 'Currency', 'Has Table booking', 'Has Online delivery', 'Is delivering now', 'Switch to order menu', 'Rating color', 'Rating text']\n"
     ]
    }
   ],
   "source": [
    "import pandas as pd\n",
    "from sklearn.model_selection import train_test_split\n",
    "from sklearn.linear_model import LinearRegression\n",
    "from sklearn.tree import DecisionTreeRegressor\n",
    "from sklearn.ensemble import RandomForestRegressor\n",
    "from sklearn.metrics import mean_squared_error, r2_score\n",
    "import warnings\n",
    "\n",
    "warnings.filterwarnings(\"ignore\")\n",
    "\n",
    "data = pd.read_csv('Dataset.csv')\n",
    "\n",
    "non_numeric_cols = data.select_dtypes(exclude=[float, int]).columns.tolist()\n",
    "print(\"Columns with non-numeric values:\")\n",
    "print(non_numeric_cols)\n",
    "\n",
    "data.drop(columns=non_numeric_cols, inplace=True)\n",
    "\n",
    "X = data.drop(columns=['Aggregate rating']) \n",
    "y = data['Aggregate rating']\n",
    "\n",
    "# Splitting the data into training and testing sets\n",
    "X_train, X_test, y_train, y_test = train_test_split(X, y, test_size=0.2, random_state=42)\n",
    "\n",
    "# Function to train and evaluate a regression model\n",
    "def train_and_evaluate_model(model):\n",
    "    model.fit(X_train, y_train)\n",
    "    y_pred = model.predict(X_test)\n",
    "    mse = mean_squared_error(y_test, y_pred)\n",
    "    r2 = r2_score(y_test, y_pred)\n",
    "    return mse, r2\n"
   ]
  },
  {
   "cell_type": "markdown",
   "metadata": {},
   "source": [
    "After training a Linear Regression model, we evaluated its performance, achieving a Mean Squared Error (MSE) of {mse_lr:.2f} and an R2 Score of {r2_lr:.2f}, demonstrating its effectiveness in predicting restaurant ratings."
   ]
  },
  {
   "cell_type": "code",
   "execution_count": null,
   "metadata": {},
   "outputs": [
    {
     "name": "stdout",
     "output_type": "stream",
     "text": [
      "Linear Regression - MSE: 1.58, R2 Score: 0.31\n"
     ]
    }
   ],
   "source": [
    "# Training and evaluating Linear Regression model\n",
    "linear_regression = LinearRegression()\n",
    "mse_lr, r2_lr = train_and_evaluate_model(linear_regression)\n",
    "\n",
    "# Print the performance metrics\n",
    "print(f\"Linear Regression - MSE: {mse_lr:.2f}, R2 Score: {r2_lr:.2f}\")"
   ]
  },
  {
   "cell_type": "markdown",
   "metadata": {},
   "source": [
    "Training a Decision Tree Regression model yielded an MSE of 0.15 and an R2 Score of 0.93, highlighting its strong predictive power for restaurant ratings."
   ]
  },
  {
   "cell_type": "code",
   "execution_count": null,
   "metadata": {},
   "outputs": [
    {
     "name": "stdout",
     "output_type": "stream",
     "text": [
      "Decision Tree Regression - MSE: 0.15, R2 Score: 0.93\n"
     ]
    }
   ],
   "source": [
    "# Training and evaluating Decision Tree Regression model\n",
    "decision_tree = DecisionTreeRegressor()\n",
    "mse_dt, r2_dt = train_and_evaluate_model(decision_tree)\n",
    "\n",
    "#print the performance metrics\n",
    "print(f\"Decision Tree Regression - MSE: {mse_dt:.2f}, R2 Score: {r2_dt:.2f}\")"
   ]
  },
  {
   "cell_type": "markdown",
   "metadata": {},
   "source": [
    "Finally, we trained a Random Forest Regression model, which achieved an impressive MSE of 0.08 and an R2 Score of 0.97, making it the most accurate model for predicting restaurant ratings among those tested."
   ]
  },
  {
   "cell_type": "code",
   "execution_count": null,
   "metadata": {},
   "outputs": [
    {
     "name": "stdout",
     "output_type": "stream",
     "text": [
      "Random Forest Regression - MSE: 0.08, R2 Score: 0.97\n"
     ]
    }
   ],
   "source": [
    "# Training and evaluating Random Forest Regression model\n",
    "random_forest = RandomForestRegressor()\n",
    "mse_rf, r2_rf = train_and_evaluate_model(random_forest)\n",
    "\n",
    "#print the perfromance metrics\n",
    "print(f\"Random Forest Regression - MSE: {mse_rf:.2f}, R2 Score: {r2_rf:.2f}\")"
   ]
  }
 ],
 "metadata": {
  "kernelspec": {
   "display_name": "Python 3",
   "language": "python",
   "name": "python3"
  },
  "language_info": {
   "codemirror_mode": {
    "name": "ipython",
    "version": 3
   },
   "file_extension": ".py",
   "mimetype": "text/x-python",
   "name": "python",
   "nbconvert_exporter": "python",
   "pygments_lexer": "ipython3",
   "version": "3.12.2"
  }
 },
 "nbformat": 4,
 "nbformat_minor": 2
}
