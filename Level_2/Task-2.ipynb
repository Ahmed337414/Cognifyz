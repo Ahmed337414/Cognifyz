{
 "cells": [
  {
   "cell_type": "code",
   "execution_count": 1,
   "metadata": {},
   "outputs": [],
   "source": [
    "import pandas as pd"
   ]
  },
  {
   "cell_type": "code",
   "execution_count": 2,
   "metadata": {},
   "outputs": [],
   "source": [
    "# Load the dataset\n",
    "data = pd.read_csv('Dataset .csv')"
   ]
  },
  {
   "cell_type": "code",
   "execution_count": 3,
   "metadata": {},
   "outputs": [
    {
     "name": "stdout",
     "output_type": "stream",
     "text": [
      "The most common price range is: 1\n"
     ]
    }
   ],
   "source": [
    "# Determine the most common price range\n",
    "most_common_price_range = data['Price range'].mode()[0]\n",
    "\n",
    "print(f\"The most common price range is: {most_common_price_range}\")"
   ]
  },
  {
   "cell_type": "code",
   "execution_count": 4,
   "metadata": {},
   "outputs": [
    {
     "name": "stdout",
     "output_type": "stream",
     "text": [
      "Average rating for each price range:\n",
      "Price range\n",
      "1    1.999887\n",
      "2    2.941054\n",
      "3    3.683381\n",
      "4    3.817918\n",
      "Name: Aggregate rating, dtype: float64\n"
     ]
    }
   ],
   "source": [
    "# Calculate the average rating for each price range\n",
    "average_rating_by_price_range = data.groupby('Price range')['Aggregate rating'].mean()\n",
    "\n",
    "print(\"Average rating for each price range:\")\n",
    "print(average_rating_by_price_range)\n"
   ]
  },
  {
   "cell_type": "code",
   "execution_count": 5,
   "metadata": {},
   "outputs": [
    {
     "name": "stdout",
     "output_type": "stream",
     "text": [
      "Price range with the highest average rating and its corresponding color:\n",
      "             Aggregate rating Rating color\n",
      "Price range                               \n",
      "1                         4.9   Dark Green\n",
      "2                         4.9   Dark Green\n",
      "3                         4.9   Dark Green\n",
      "4                         4.9   Dark Green\n"
     ]
    },
    {
     "name": "stderr",
     "output_type": "stream",
     "text": [
      "C:\\Users\\ahmed\\AppData\\Local\\Temp\\ipykernel_16128\\1672919953.py:2: DeprecationWarning: DataFrameGroupBy.apply operated on the grouping columns. This behavior is deprecated, and in a future version of pandas the grouping columns will be excluded from the operation. Either pass `include_groups=False` to exclude the groupings or explicitly select the grouping columns after groupby to silence this warning.\n",
      "  price_range_rating_color = data.groupby('Price range').apply(lambda x: x.loc[x['Aggregate rating'].idxmax(), ['Aggregate rating', 'Rating color']])\n"
     ]
    }
   ],
   "source": [
    "# Merge the average rating with the rating color\n",
    "price_range_rating_color = data.groupby('Price range').apply(lambda x: x.loc[x['Aggregate rating'].idxmax(), ['Aggregate rating', 'Rating color']])\n",
    "\n",
    "print(\"Price range with the highest average rating and its corresponding color:\")\n",
    "print(price_range_rating_color)\n"
   ]
  },
  {
   "cell_type": "markdown",
   "metadata": {},
   "source": [
    "The most common price range is determined as well as the average rating for each price range. Additionally, the price range with the highest average rating and its corresponding color are identified through data aggregation and merging, offering insights into the relationship between price range and restaurant ratings"
   ]
  }
 ],
 "metadata": {
  "kernelspec": {
   "display_name": "Python 3",
   "language": "python",
   "name": "python3"
  },
  "language_info": {
   "codemirror_mode": {
    "name": "ipython",
    "version": 3
   },
   "file_extension": ".py",
   "mimetype": "text/x-python",
   "name": "python",
   "nbconvert_exporter": "python",
   "pygments_lexer": "ipython3",
   "version": "3.12.2"
  }
 },
 "nbformat": 4,
 "nbformat_minor": 2
}
